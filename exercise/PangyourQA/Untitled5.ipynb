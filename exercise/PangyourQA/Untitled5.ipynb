{
  "nbformat": 4,
  "nbformat_minor": 0,
  "metadata": {
    "colab": {
      "provenance": []
    },
    "kernelspec": {
      "name": "python3",
      "display_name": "Python 3"
    },
    "language_info": {
      "name": "python"
    }
  },
  "cells": [
    {
      "cell_type": "code",
      "execution_count": null,
      "metadata": {
        "id": "hyZDmc9RQup6"
      },
      "outputs": [],
      "source": []
    },
    {
      "cell_type": "markdown",
      "source": [
        "#Hello World\n",
        "##Hello World\n",
        "###Hello World\n",
        "####Hello World"
      ],
      "metadata": {
        "id": "B84-r82UQ15g"
      }
    },
    {
      "cell_type": "markdown",
      "source": [
        "#My Info"
      ],
      "metadata": {
        "id": "Nx_QhybIQvlI"
      }
    },
    {
      "cell_type": "code",
      "source": [],
      "metadata": {
        "id": "Mt9C4LhBQ_EL"
      },
      "execution_count": null,
      "outputs": []
    }
  ]
}